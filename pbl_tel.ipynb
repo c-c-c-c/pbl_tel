{
 "cells": [
  {
   "cell_type": "code",
   "execution_count": 1,
   "metadata": {},
   "outputs": [
    {
     "data": {
      "text/html": [
       "        <script type=\"text/javascript\">\n",
       "        window.PlotlyConfig = {MathJaxConfig: 'local'};\n",
       "        if (window.MathJax) {MathJax.Hub.Config({SVG: {font: \"STIX-Web\"}});}\n",
       "        if (typeof require !== 'undefined') {\n",
       "        require.undef(\"plotly\");\n",
       "        requirejs.config({\n",
       "            paths: {\n",
       "                'plotly': ['https://cdn.plot.ly/plotly-latest.min']\n",
       "            }\n",
       "        });\n",
       "        require(['plotly'], function(Plotly) {\n",
       "            window._Plotly = Plotly;\n",
       "        });\n",
       "        }\n",
       "        </script>\n",
       "        "
      ]
     },
     "metadata": {},
     "output_type": "display_data"
    },
    {
     "data": {
      "text/html": [
       "        <script type=\"text/javascript\">\n",
       "        window.PlotlyConfig = {MathJaxConfig: 'local'};\n",
       "        if (window.MathJax) {MathJax.Hub.Config({SVG: {font: \"STIX-Web\"}});}\n",
       "        if (typeof require !== 'undefined') {\n",
       "        require.undef(\"plotly\");\n",
       "        requirejs.config({\n",
       "            paths: {\n",
       "                'plotly': ['https://cdn.plot.ly/plotly-latest.min']\n",
       "            }\n",
       "        });\n",
       "        require(['plotly'], function(Plotly) {\n",
       "            window._Plotly = Plotly;\n",
       "        });\n",
       "        }\n",
       "        </script>\n",
       "        "
      ]
     },
     "metadata": {},
     "output_type": "display_data"
    },
    {
     "data": {
      "text/html": [
       "        <script type=\"text/javascript\">\n",
       "        window.PlotlyConfig = {MathJaxConfig: 'local'};\n",
       "        if (window.MathJax) {MathJax.Hub.Config({SVG: {font: \"STIX-Web\"}});}\n",
       "        if (typeof require !== 'undefined') {\n",
       "        require.undef(\"plotly\");\n",
       "        requirejs.config({\n",
       "            paths: {\n",
       "                'plotly': ['https://cdn.plot.ly/plotly-latest.min']\n",
       "            }\n",
       "        });\n",
       "        require(['plotly'], function(Plotly) {\n",
       "            window._Plotly = Plotly;\n",
       "        });\n",
       "        }\n",
       "        </script>\n",
       "        "
      ]
     },
     "metadata": {},
     "output_type": "display_data"
    }
   ],
   "source": [
    "import numpy as np # linear algebra\n",
    "import pandas as pd # data processing, CSV file I/O (e.g. pd.read_csv)\n",
    "import warnings\n",
    "warnings.filterwarnings('ignore')\n",
    "import matplotlib.pyplot as plt\n",
    "%matplotlib inline\n",
    "import matplotlib.patches as patches\n",
    "from plotly import tools, subplots\n",
    "import plotly.offline as py\n",
    "py.init_notebook_mode(connected=True)\n",
    "import plotly.graph_objs as go\n",
    "import plotly.express as px\n",
    "pd.set_option('max_columns', 100)\n",
    "py.init_notebook_mode(connected=True)\n",
    "from plotly.offline import init_notebook_mode, iplot\n",
    "init_notebook_mode(connected=True)\n",
    "\n",
    "import os,random, math, psutil, pickle\n",
    "\n",
    "import pandas_profiling as pdp\n",
    "\n",
    "from sklearn.metrics import mean_squared_error\n",
    "import lightgbm as lgb\n",
    "from sklearn.model_selection import KFold, StratifiedKFold\n",
    "from tqdm import tqdm\n",
    "\n",
    "from sklearn.preprocessing import LabelEncoder\n",
    "from sklearn.preprocessing import OrdinalEncoder\n",
    "\n",
    "import category_encoders as ce\n"
   ]
  },
  {
   "cell_type": "code",
   "execution_count": 2,
   "metadata": {},
   "outputs": [],
   "source": [
    "train = pd.read_csv('./input/bank_marketing_train.csv')"
   ]
  },
  {
   "cell_type": "code",
   "execution_count": 3,
   "metadata": {},
   "outputs": [],
   "source": [
    "##渾身の特徴量エンジニアリングの名残\n",
    "education_rank = {\n",
    "    \"unknown\": 0,\n",
    "    \"illiterate\": 1,\n",
    "    \"basic.4y\" : 2,\n",
    "    \"basic.6y\"  :3,\n",
    "    \"basic.9y\":4,\n",
    "    \"high.school\":5, \n",
    "    \"professional.course\":6 ,\n",
    "    \"university.degree\":7\n",
    "}"
   ]
  },
  {
   "cell_type": "markdown",
   "metadata": {},
   "source": [
    "# 前処理"
   ]
  },
  {
   "cell_type": "code",
   "execution_count": 4,
   "metadata": {},
   "outputs": [],
   "source": [
    "#numeric = [ 'cons.price.idx', 'cons.conf.idx', 'age','campaign','pdays', 'previous'  ]\n",
    "numeric = ['age','campaign','pdays', 'previous'  ]\n",
    "categoricals = ['job', 'marital',  'default', 'housing', 'loan',\n",
    "#       'contact', 'day_of_week',  'poutcome', 'emp.var.rate', 'euribor3m', 'nr.employed']\n",
    "     # 'contact', 'day_of_week',  'poutcome', 'euribor3m']\n",
    "      'education','contact', 'day_of_week',  'poutcome']#, 'euribor3m']\n",
    "\n",
    "rank_categoricals = [\"education\"]\n",
    "feat_cols = numeric + categoricals\n"
   ]
  },
  {
   "cell_type": "code",
   "execution_count": 5,
   "metadata": {},
   "outputs": [],
   "source": [
    "def preprocessing ( df ) :\n",
    "    df.drop(['duration'], axis=1, inplace=True)\n",
    "    df[\"y\"].replace(\"no\",0, inplace=True)\n",
    "    df[\"y\"].replace(\"yes\",1, inplace=True)\n",
    "    # ダミー化\n",
    "    ce_oe = ce.OrdinalEncoder(cols=categoricals,handle_unknown='impute')\n",
    "    df = ce_oe.fit_transform(df)\n",
    "    return df\n"
   ]
  },
  {
   "cell_type": "code",
   "execution_count": 6,
   "metadata": {},
   "outputs": [],
   "source": [
    "# カスタムmetric\n",
    "\n",
    "def exp_val_func (y_pred , data):\n",
    "    valid_y = data.get_label().tolist()\n",
    "    tmp_exp_val = 0\n",
    "    \n",
    "    y_pred = y_pred.round(0).astype(\"u1\") \n",
    "    for i in range (len(valid_y)) :\n",
    "        if y_pred[i]:\n",
    "            tmp_exp_val -= 500\n",
    "            if valid_y[i]:\n",
    "                tmp_exp_val += 5000\n",
    "    \n",
    "    return 'exp_val', tmp_exp_val, True"
   ]
  },
  {
   "cell_type": "code",
   "execution_count": 7,
   "metadata": {},
   "outputs": [],
   "source": [
    "train = preprocessing(train)"
   ]
  },
  {
   "cell_type": "code",
   "execution_count": null,
   "metadata": {},
   "outputs": [],
   "source": []
  },
  {
   "cell_type": "markdown",
   "metadata": {},
   "source": [
    "# モデル作成"
   ]
  },
  {
   "cell_type": "code",
   "execution_count": 8,
   "metadata": {},
   "outputs": [
    {
     "data": {
      "text/plain": [
       "Index(['age', 'job', 'marital', 'education', 'default', 'housing', 'loan',\n",
       "       'contact', 'day_of_week', 'campaign', 'pdays', 'previous', 'poutcome',\n",
       "       'emp.var.rate', 'cons.price.idx', 'cons.conf.idx', 'euribor3m',\n",
       "       'nr.employed', 'y'],\n",
       "      dtype='object')"
      ]
     },
     "execution_count": 8,
     "metadata": {},
     "output_type": "execute_result"
    }
   ],
   "source": [
    "train.columns"
   ]
  },
  {
   "cell_type": "markdown",
   "metadata": {},
   "source": [
    "# ポイント"
   ]
  },
  {
   "cell_type": "code",
   "execution_count": 9,
   "metadata": {},
   "outputs": [],
   "source": [
    "params = {\n",
    "            'boosting_type': 'gbdt',\n",
    "            'objective': 'binary',\n",
    "            'metric': {'None'}, # custom metricにするため\n",
    "            'subsample': 0.8, # 汎化性\n",
    "            'subsample_freq': 1,\n",
    "            'learning_rate': 0.01, # 0.1で試して、0.01で最終\n",
    "            'num_leaves': 14, # 2^3 ~ 2^6\n",
    "            'feature_fraction': 0.9,\n",
    "            'lambda_l1': 2,  # 汎化性\n",
    "            'lambda_l2': 2,  # 汎化性\n",
    "            'min_data_in_leaf': 20, # 汎化性\n",
    "            'scale_pos_weight':9 # 重みづけ\n",
    "            #'device':'gpu'\n",
    "            }\n",
    "\n",
    "folds = 5\n",
    "seed = 666\n",
    "\n",
    "kf = KFold(n_splits=folds, shuffle=True, random_state=seed)"
   ]
  },
  {
   "cell_type": "code",
   "execution_count": 10,
   "metadata": {},
   "outputs": [],
   "source": [
    "\n",
    "i =0\n",
    "for train_index, val_index in kf.split(train, train['y']):\n",
    "    train_X = train[feat_cols].iloc[train_index] \n",
    "    train_y = train[\"y\"].iloc[train_index] \n",
    "    val_X = train[feat_cols].iloc[val_index]\n",
    "    val_y = train[\"y\"].iloc[val_index]\n",
    "    i = i+1\n",
    "    break"
   ]
  },
  {
   "cell_type": "code",
   "execution_count": 11,
   "metadata": {},
   "outputs": [],
   "source": [
    "## オーバーサンプリングやめました！！\n",
    "\n",
    "\n",
    "# from imblearn.over_sampling import SMOTE\n",
    "\n",
    "# train_X_origin = train_X.copy()\n",
    "# train_y_origin = train_y.copy()\n",
    "\n",
    "# sm = SMOTE(random_state=42)\n",
    "# train_X, train_y = sm.fit_sample(train_X, train_y)\n",
    "\n",
    "# p = list(zip(train_X, train_y))\n",
    "# random.shuffle(p)\n",
    "# train_X, train_y = zip(*p)\n"
   ]
  },
  {
   "cell_type": "code",
   "execution_count": 12,
   "metadata": {},
   "outputs": [],
   "source": [
    "lgb_train = lgb.Dataset(train_X, train_y, categorical_feature=categoricals)\n",
    "lgb_eval = lgb.Dataset(val_X, val_y, categorical_feature=categoricals)"
   ]
  },
  {
   "cell_type": "code",
   "execution_count": 13,
   "metadata": {},
   "outputs": [
    {
     "name": "stdout",
     "output_type": "stream",
     "text": [
      "Training until validation scores don't improve for 100 rounds.\n",
      "[100]\ttraining's exp_val: 3.643e+06\tvalid_1's exp_val: 808000\n",
      "[200]\ttraining's exp_val: 5.339e+06\tvalid_1's exp_val: 1.105e+06\n",
      "[300]\ttraining's exp_val: 5.6605e+06\tvalid_1's exp_val: 1.16e+06\n",
      "[400]\ttraining's exp_val: 5.829e+06\tvalid_1's exp_val: 1.1595e+06\n",
      "Early stopping, best iteration is:\n",
      "[344]\ttraining's exp_val: 5.755e+06\tvalid_1's exp_val: 1.1835e+06\n"
     ]
    }
   ],
   "source": [
    "gbm = lgb.train(params,\n",
    "                lgb_train,\n",
    "                num_boost_round=100000,\n",
    "                valid_sets=(lgb_train, lgb_eval),\n",
    "                early_stopping_rounds=100,\n",
    "                verbose_eval = 100,\n",
    "                \n",
    "                feval = exp_val_func,\n",
    "               )"
   ]
  },
  {
   "cell_type": "code",
   "execution_count": 14,
   "metadata": {},
   "outputs": [
    {
     "data": {
      "text/html": [
       "<div>\n",
       "<style scoped>\n",
       "    .dataframe tbody tr th:only-of-type {\n",
       "        vertical-align: middle;\n",
       "    }\n",
       "\n",
       "    .dataframe tbody tr th {\n",
       "        vertical-align: top;\n",
       "    }\n",
       "\n",
       "    .dataframe thead th {\n",
       "        text-align: right;\n",
       "    }\n",
       "</style>\n",
       "<table border=\"1\" class=\"dataframe\">\n",
       "  <thead>\n",
       "    <tr style=\"text-align: right;\">\n",
       "      <th></th>\n",
       "      <th>0</th>\n",
       "      <th>1</th>\n",
       "    </tr>\n",
       "  </thead>\n",
       "  <tbody>\n",
       "    <tr>\n",
       "      <th>0</th>\n",
       "      <td>age</td>\n",
       "      <td>1123</td>\n",
       "    </tr>\n",
       "    <tr>\n",
       "      <th>1</th>\n",
       "      <td>campaign</td>\n",
       "      <td>602</td>\n",
       "    </tr>\n",
       "    <tr>\n",
       "      <th>2</th>\n",
       "      <td>pdays</td>\n",
       "      <td>270</td>\n",
       "    </tr>\n",
       "    <tr>\n",
       "      <th>3</th>\n",
       "      <td>previous</td>\n",
       "      <td>102</td>\n",
       "    </tr>\n",
       "    <tr>\n",
       "      <th>4</th>\n",
       "      <td>job</td>\n",
       "      <td>655</td>\n",
       "    </tr>\n",
       "    <tr>\n",
       "      <th>5</th>\n",
       "      <td>marital</td>\n",
       "      <td>214</td>\n",
       "    </tr>\n",
       "    <tr>\n",
       "      <th>6</th>\n",
       "      <td>default</td>\n",
       "      <td>240</td>\n",
       "    </tr>\n",
       "    <tr>\n",
       "      <th>7</th>\n",
       "      <td>housing</td>\n",
       "      <td>144</td>\n",
       "    </tr>\n",
       "    <tr>\n",
       "      <th>8</th>\n",
       "      <td>loan</td>\n",
       "      <td>105</td>\n",
       "    </tr>\n",
       "    <tr>\n",
       "      <th>9</th>\n",
       "      <td>education</td>\n",
       "      <td>438</td>\n",
       "    </tr>\n",
       "    <tr>\n",
       "      <th>10</th>\n",
       "      <td>contact</td>\n",
       "      <td>227</td>\n",
       "    </tr>\n",
       "    <tr>\n",
       "      <th>11</th>\n",
       "      <td>day_of_week</td>\n",
       "      <td>278</td>\n",
       "    </tr>\n",
       "    <tr>\n",
       "      <th>12</th>\n",
       "      <td>poutcome</td>\n",
       "      <td>74</td>\n",
       "    </tr>\n",
       "  </tbody>\n",
       "</table>\n",
       "</div>"
      ],
      "text/plain": [
       "              0     1\n",
       "0           age  1123\n",
       "1      campaign   602\n",
       "2         pdays   270\n",
       "3      previous   102\n",
       "4           job   655\n",
       "5       marital   214\n",
       "6       default   240\n",
       "7       housing   144\n",
       "8          loan   105\n",
       "9     education   438\n",
       "10      contact   227\n",
       "11  day_of_week   278\n",
       "12     poutcome    74"
      ]
     },
     "execution_count": 14,
     "metadata": {},
     "output_type": "execute_result"
    }
   ],
   "source": [
    "fi = pd.DataFrame(  {0: train_X.columns ,  1: gbm.feature_importance()})\n",
    "fi"
   ]
  },
  {
   "cell_type": "code",
   "execution_count": 15,
   "metadata": {},
   "outputs": [],
   "source": [
    "from sklearn.metrics import confusion_matrix\n",
    "# y_true = [0, 0, 0, 0, 1, 1, 1, 0, 1, 0]   # 実際の値 (0:スパムでない, 1:スパム)\n",
    "# y_pred = [0, 0, 0, 0, 1, 1, 1, 1, 0, 1]   # 識別結果 (0:スパムでない, 1:スパム)\n",
    "y_pred = gbm.predict(val_X)\n"
   ]
  },
  {
   "cell_type": "code",
   "execution_count": 16,
   "metadata": {},
   "outputs": [],
   "source": [
    "#y_pred.tolist()"
   ]
  },
  {
   "cell_type": "code",
   "execution_count": 17,
   "metadata": {},
   "outputs": [],
   "source": [
    "val_y_c = val_y.tolist()\n",
    "y_pred_c =  y_pred.tolist()\n"
   ]
  },
  {
   "cell_type": "markdown",
   "metadata": {},
   "source": [
    "# ポイント"
   ]
  },
  {
   "cell_type": "code",
   "execution_count": 18,
   "metadata": {},
   "outputs": [
    {
     "name": "stdout",
     "output_type": "stream",
     "text": [
      "Predict    0          1          \n",
      "Actual\n",
      "0          4070       1962       \n",
      "\n",
      "1          236        481        \n",
      "\n",
      "\n"
     ]
    }
   ],
   "source": [
    "# labels = [\"not cvr\", \"cvr\"]\n",
    "#confusion_matrix( val_y_c, y_pred.round(), labels=labels, index=labels)\n",
    "\n",
    "from pycm import ConfusionMatrix\n",
    "cm = ConfusionMatrix(actual_vector=val_y_c, predict_vector=y_pred.round(0).astype(\"u1\") )  \n",
    "cm.print_matrix()"
   ]
  },
  {
   "cell_type": "code",
   "execution_count": 19,
   "metadata": {},
   "outputs": [],
   "source": [
    "test = pd.read_csv('./input/bank_marketing_test.csv')"
   ]
  },
  {
   "cell_type": "code",
   "execution_count": 20,
   "metadata": {},
   "outputs": [],
   "source": [
    "test = preprocessing(test)"
   ]
  },
  {
   "cell_type": "code",
   "execution_count": 21,
   "metadata": {},
   "outputs": [],
   "source": [
    "test_X = test[feat_cols]\n",
    "#test_X"
   ]
  },
  {
   "cell_type": "code",
   "execution_count": 22,
   "metadata": {},
   "outputs": [
    {
     "data": {
      "text/plain": [
       "array([0, 0, 0, ..., 0, 0, 0])"
      ]
     },
     "execution_count": 22,
     "metadata": {},
     "output_type": "execute_result"
    }
   ],
   "source": [
    "\n",
    "test_y = np.array(test[\"y\"])\n",
    "test_y"
   ]
  },
  {
   "cell_type": "code",
   "execution_count": 23,
   "metadata": {},
   "outputs": [],
   "source": [
    "y_test_pred = gbm.predict(test_X)"
   ]
  },
  {
   "cell_type": "code",
   "execution_count": 24,
   "metadata": {},
   "outputs": [],
   "source": [
    "test_y_c = test_y.tolist()\n",
    "y_test_pred_c =  y_test_pred.tolist()"
   ]
  },
  {
   "cell_type": "code",
   "execution_count": 25,
   "metadata": {},
   "outputs": [
    {
     "name": "stdout",
     "output_type": "stream",
     "text": [
      "Predict    0          1          \n",
      "Actual\n",
      "0          4901       2399       \n",
      "\n",
      "1          308        629        \n",
      "\n",
      "\n"
     ]
    }
   ],
   "source": [
    "from pycm import ConfusionMatrix\n",
    "cm_t = ConfusionMatrix(actual_vector=test_y_c, predict_vector=y_test_pred.round(0).astype(\"u1\") )  \n",
    "cm_t.print_matrix()"
   ]
  },
  {
   "cell_type": "code",
   "execution_count": null,
   "metadata": {},
   "outputs": [],
   "source": []
  }
 ],
 "metadata": {
  "kernelspec": {
   "display_name": "Python 3",
   "language": "python",
   "name": "python3"
  },
  "language_info": {
   "codemirror_mode": {
    "name": "ipython",
    "version": 3
   },
   "file_extension": ".py",
   "mimetype": "text/x-python",
   "name": "python",
   "nbconvert_exporter": "python",
   "pygments_lexer": "ipython3",
   "version": "3.7.3"
  }
 },
 "nbformat": 4,
 "nbformat_minor": 2
}
